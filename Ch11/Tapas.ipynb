{
  "nbformat": 4,
  "nbformat_minor": 0,
  "metadata": {
    "colab": {
      "provenance": [],
      "gpuType": "T4"
    },
    "kernelspec": {
      "name": "python3",
      "display_name": "Python 3"
    },
    "language_info": {
      "name": "python"
    },
    "accelerator": "GPU"
  },
  "cells": [
    {
      "cell_type": "code",
      "source": [
        "! pip install transformers"
      ],
      "metadata": {
        "id": "Zxju-xupVIJK",
        "colab": {
          "base_uri": "https://localhost:8080/"
        },
        "executionInfo": {
          "status": "ok",
          "timestamp": 1735271717361,
          "user_tz": -540,
          "elapsed": 9829,
          "user": {
            "displayName": "Jason SJ Yim",
            "userId": "00695299170620821850"
          }
        },
        "outputId": "5334a0da-34f4-4d20-e692-2058998061e7"
      },
      "execution_count": null,
      "outputs": [
        {
          "output_type": "stream",
          "name": "stdout",
          "text": [
            "Requirement already satisfied: transformers in /usr/local/lib/python3.10/dist-packages (4.47.1)\n",
            "Requirement already satisfied: filelock in /usr/local/lib/python3.10/dist-packages (from transformers) (3.16.1)\n",
            "Requirement already satisfied: huggingface-hub<1.0,>=0.24.0 in /usr/local/lib/python3.10/dist-packages (from transformers) (0.27.0)\n",
            "Requirement already satisfied: numpy>=1.17 in /usr/local/lib/python3.10/dist-packages (from transformers) (1.26.4)\n",
            "Requirement already satisfied: packaging>=20.0 in /usr/local/lib/python3.10/dist-packages (from transformers) (24.2)\n",
            "Requirement already satisfied: pyyaml>=5.1 in /usr/local/lib/python3.10/dist-packages (from transformers) (6.0.2)\n",
            "Requirement already satisfied: regex!=2019.12.17 in /usr/local/lib/python3.10/dist-packages (from transformers) (2024.11.6)\n",
            "Requirement already satisfied: requests in /usr/local/lib/python3.10/dist-packages (from transformers) (2.32.3)\n",
            "Requirement already satisfied: tokenizers<0.22,>=0.21 in /usr/local/lib/python3.10/dist-packages (from transformers) (0.21.0)\n",
            "Requirement already satisfied: safetensors>=0.4.1 in /usr/local/lib/python3.10/dist-packages (from transformers) (0.4.5)\n",
            "Requirement already satisfied: tqdm>=4.27 in /usr/local/lib/python3.10/dist-packages (from transformers) (4.67.1)\n",
            "Requirement already satisfied: fsspec>=2023.5.0 in /usr/local/lib/python3.10/dist-packages (from huggingface-hub<1.0,>=0.24.0->transformers) (2024.10.0)\n",
            "Requirement already satisfied: typing-extensions>=3.7.4.3 in /usr/local/lib/python3.10/dist-packages (from huggingface-hub<1.0,>=0.24.0->transformers) (4.12.2)\n",
            "Requirement already satisfied: charset-normalizer<4,>=2 in /usr/local/lib/python3.10/dist-packages (from requests->transformers) (3.4.0)\n",
            "Requirement already satisfied: idna<4,>=2.5 in /usr/local/lib/python3.10/dist-packages (from requests->transformers) (3.10)\n",
            "Requirement already satisfied: urllib3<3,>=1.21.1 in /usr/local/lib/python3.10/dist-packages (from requests->transformers) (2.2.3)\n",
            "Requirement already satisfied: certifi>=2017.4.17 in /usr/local/lib/python3.10/dist-packages (from requests->transformers) (2024.12.14)\n"
          ]
        }
      ]
    },
    {
      "cell_type": "code",
      "source": [
        "from transformers import AutoTokenizer, TapasForQuestionAnswering\n",
        "import pandas as pd\n",
        "\n",
        "# 토크나이저 및 모델 정의\n",
        "tokenizer = AutoTokenizer.from_pretrained(\n",
        "    \"google/tapas-base-finetuned-wtq\")\n",
        "model = TapasForQuestionAnswering.from_pretrained(\n",
        "    \"google/tapas-base-finetuned-wtq\")\n",
        "\n",
        "# 테이블 데이터 정의\n",
        "data = {\n",
        "    \"Company\": [\"Apple\", \"Microsoft\", \"Google\"],\n",
        "    \"CEO\": [\"Tim Cook\", \"Satya Nadella\", \"Sundar Pichai\"],\n",
        "    \"Headquarters\": [\"Cupertino\", \"Redmond\", \"Mountain View\"]\n",
        "}\n",
        "# 데이터를 판다스 데이터프레임으로 변환\n",
        "table = pd.DataFrame.from_dict(data)\n",
        "\n",
        "# 쿼리(질의) 정의\n",
        "queries = [\"Who is the CEO of Microsoft?\",\n",
        "           \"Where is the headquarters of Google?\"]\n",
        "\n",
        "# 테이블 및 쿼리 토큰화\n",
        "inputs = tokenizer(table=table, queries=queries, padding=\"max_length\",\n",
        "                   return_tensors=\"pt\")\n",
        "# 모델을 통해 예측 수행\n",
        "outputs = model(**inputs)\n",
        "\n",
        "# 예측된 답이 담긴 셀 좌표와 집계 연산의 인덱스 추출\n",
        "predicted_answer_coordinates, predicted_aggregation_indices = \\\n",
        "tokenizer.convert_logits_to_predictions(\n",
        "    inputs,\n",
        "    outputs.logits.detach(),\n",
        "    outputs.logits_aggregation.detach()\n",
        ")\n",
        "\n",
        "# 쿼리 집합(queries)에서 쿼리(query)를 하나씩 꺼내 반복 수행 후 답을 출력\n",
        "for i, query in enumerate(queries):\n",
        "    if predicted_aggregation_indices[i] == 0:\n",
        "        # 만약 집계 연산이 없을 경우(index 0), 답이 담긴 셀을 출력\n",
        "        coords_to_answer = ' '.join([table.iat[coord] for coord\n",
        "                                     in predicted_answer_coordinates[i]])\n",
        "        print(f\"Question: {query}\")\n",
        "        print(f\"Answer: {coords_to_answer}\\n\")\n",
        "    else:\n",
        "        # 만약 집계 연산이 있다면, 연산 집합 리스트에서 집계 연산 작업명을 출력\n",
        "        print(f\"Question: {query}\")\n",
        "        print(\n",
        "            f\"Answer: \"\n",
        "            f\"{tokenizer.model.config.id2label[predicted_aggregation_indices[i]]}\\n\"\n",
        "            )\n"
      ],
      "metadata": {
        "colab": {
          "base_uri": "https://localhost:8080/",
          "height": 489,
          "referenced_widgets": [
            "adffb6e925b44d90ab45d2a76a6613fa",
            "42d660c89c5e452498149801c3722da0",
            "0795b96516b04e99a7ab6dd20841cf14",
            "dc1afb85c5ae4c02871a0cdc38f9bf60",
            "ed6d79b7826d4eb4bf240286bc3cabb7",
            "4aa02ba39c93484d91a0966d7fd18df9",
            "3f7f9176858e45ae84519ad0c9f07cfe",
            "3df9bcef155942fda7297c3a997f254d",
            "59880a81fefa42c4a68ea6d27e1f3aef",
            "45bd86334dab465190eea99f0d0d0aec",
            "a3f616ab395146b7bea601c08407b966",
            "10d8297eae1e4deeb70f6a4fe51a17c1",
            "bc8aa399cd2040468b85192095f9cf0a",
            "cd5d85455e934f0c9f33605213da4a12",
            "5584f8294c1d432eb7460589b50828c5",
            "0c33a82623bc4a389ebe97f7e426a610",
            "c30b0147c8674e67a1c6b2fdf503ee07",
            "4f0ec0eb49404b43b027972847164b87",
            "9d595917126c49108b143b66c01165fd",
            "22340d0ba52848e0a42bf4d91d09644e",
            "6de373c5f7b148f08da16bf9580e0fed",
            "5c28cb541aad4c478d48a5f24be96526",
            "5e58790f0f8b45c989cba903515493e3",
            "4772b9119e7b4172a2f1306d84632a8e",
            "6df2ffa065fb467f981c4cf4bae1fb20",
            "8d7d882b210c4730be7ae3210bdeed8f",
            "eab345c6929a4c17bd0b12fa3819871e",
            "a88521a0c1cf4e82a87db42f821235ba",
            "379b607346b140c29a5a09c5945d4183",
            "0f72fee4a4ec46c8881df6fae4a0af0b",
            "f26469ac269a434ab32f7b46ad28fcd0",
            "d18306b470a3435d98e8623c4f74223b",
            "609f6566824046f5916712b4ac44a403",
            "22821dd761da400ca9ba02afdf03449a",
            "7a7a63e9a0674bc38b1b120345a6e26a",
            "094d61533abb4573bed2d8e365fc5e70",
            "ac699bfac0b7420399329885f1fa6a5e",
            "7748078afae84d35a4e3fa92f82e3a0e",
            "3c3541be311249a38f606b27cd06a4a0",
            "2a7c065761be4dbd91f9fd4c54760312",
            "0e53e7d9ad984407b1f6b49bd2aabe9e",
            "56a66ca822e848949ad4247a885585f7",
            "4f7399ba588c4963942cdef8e55b081a",
            "2652f66ce0a7452298f4b75feb94c265",
            "734bf60383d148f680ef967024d9699e",
            "0f8f9848889a4db9aa809b43ccf9bc5f",
            "93bbb0faaf1a4cb8889aba2de5d06ddb",
            "f56ae8f2811f45449a1fd4fea30a279a",
            "4b2b1639f8ae4168a411b6e70289aa99",
            "9fb0201812cf42d0b1750dc0b31a1b7f",
            "b048db60403d4ee0ae9d00126f1c43a3",
            "24122eeb7e944232b206fe43e78af863",
            "f64424232aab4bdf956bca4da43d6b15",
            "f5ceaca91eda4187b94af01b57fd9c1a",
            "c73c17f4299a49bebd66d99911f863e8"
          ]
        },
        "id": "Uyo4qA8jVV4m",
        "executionInfo": {
          "status": "ok",
          "timestamp": 1735271757478,
          "user_tz": -540,
          "elapsed": 35291,
          "user": {
            "displayName": "Jason SJ Yim",
            "userId": "00695299170620821850"
          }
        },
        "outputId": "9ee90043-40bf-4467-f8b9-0bf5e3c07e60"
      },
      "execution_count": null,
      "outputs": [
        {
          "output_type": "stream",
          "name": "stderr",
          "text": [
            "/usr/local/lib/python3.10/dist-packages/huggingface_hub/utils/_auth.py:94: UserWarning: \n",
            "The secret `HF_TOKEN` does not exist in your Colab secrets.\n",
            "To authenticate with the Hugging Face Hub, create a token in your settings tab (https://huggingface.co/settings/tokens), set it as secret in your Google Colab and restart your session.\n",
            "You will be able to reuse this secret in all of your notebooks.\n",
            "Please note that authentication is recommended but still optional to access public models or datasets.\n",
            "  warnings.warn(\n"
          ]
        },
        {
          "output_type": "display_data",
          "data": {
            "text/plain": [
              "tokenizer_config.json:   0%|          | 0.00/490 [00:00<?, ?B/s]"
            ],
            "application/vnd.jupyter.widget-view+json": {
              "version_major": 2,
              "version_minor": 0,
              "model_id": "adffb6e925b44d90ab45d2a76a6613fa"
            }
          },
          "metadata": {}
        },
        {
          "output_type": "display_data",
          "data": {
            "text/plain": [
              "config.json:   0%|          | 0.00/1.66k [00:00<?, ?B/s]"
            ],
            "application/vnd.jupyter.widget-view+json": {
              "version_major": 2,
              "version_minor": 0,
              "model_id": "10d8297eae1e4deeb70f6a4fe51a17c1"
            }
          },
          "metadata": {}
        },
        {
          "output_type": "display_data",
          "data": {
            "text/plain": [
              "vocab.txt:   0%|          | 0.00/262k [00:00<?, ?B/s]"
            ],
            "application/vnd.jupyter.widget-view+json": {
              "version_major": 2,
              "version_minor": 0,
              "model_id": "5e58790f0f8b45c989cba903515493e3"
            }
          },
          "metadata": {}
        },
        {
          "output_type": "display_data",
          "data": {
            "text/plain": [
              "special_tokens_map.json:   0%|          | 0.00/154 [00:00<?, ?B/s]"
            ],
            "application/vnd.jupyter.widget-view+json": {
              "version_major": 2,
              "version_minor": 0,
              "model_id": "22821dd761da400ca9ba02afdf03449a"
            }
          },
          "metadata": {}
        },
        {
          "output_type": "display_data",
          "data": {
            "text/plain": [
              "pytorch_model.bin:   0%|          | 0.00/443M [00:00<?, ?B/s]"
            ],
            "application/vnd.jupyter.widget-view+json": {
              "version_major": 2,
              "version_minor": 0,
              "model_id": "734bf60383d148f680ef967024d9699e"
            }
          },
          "metadata": {}
        },
        {
          "output_type": "stream",
          "name": "stderr",
          "text": [
            "/usr/local/lib/python3.10/dist-packages/transformers/models/tapas/tokenization_tapas.py:2699: FutureWarning: Series.__getitem__ treating keys as positions is deprecated. In a future version, integer keys will always be treated as labels (consistent with DataFrame behavior). To access a value by position, use `ser.iloc[pos]`\n",
            "  text = normalize_for_match(row[col_index].text)\n",
            "/usr/local/lib/python3.10/dist-packages/transformers/models/tapas/tokenization_tapas.py:1493: FutureWarning: Series.__getitem__ treating keys as positions is deprecated. In a future version, integer keys will always be treated as labels (consistent with DataFrame behavior). To access a value by position, use `ser.iloc[pos]`\n",
            "  cell = row[col_index]\n"
          ]
        },
        {
          "output_type": "stream",
          "name": "stdout",
          "text": [
            "Question: Who is the CEO of Microsoft?\n",
            "Answer: Satya Nadella\n",
            "\n",
            "Question: Where is the headquarters of Google?\n",
            "Answer: Mountain View\n",
            "\n"
          ]
        }
      ]
    }
  ]
}