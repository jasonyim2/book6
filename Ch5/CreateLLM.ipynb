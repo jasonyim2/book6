{
  "nbformat": 4,
  "nbformat_minor": 0,
  "metadata": {
    "colab": {
      "provenance": [],
      "machine_shape": "hm",
      "gpuType": "A100"
    },
    "kernelspec": {
      "name": "python3",
      "display_name": "Python 3"
    },
    "language_info": {
      "name": "python"
    },
    "accelerator": "GPU"
  },
  "cells": [
    {
      "cell_type": "markdown",
      "source": [
        "# Our Plan\n",
        "We want to further pre-train the bert-based-uncased model using a clinical notes dataset. Here is our plan:\n",
        "\n",
        "1. Import necessary packages.\n",
        "2. Download the dataset from Kaggle.\n",
        "  * We will use the akashadesai/clinical-notes dataset from Kaggle.\n",
        "  * Save the dataset on your machine.\n",
        "3. Preprocess the dataset.\n",
        "  * Create a pandas dataframe with each sentence in a new row.\n",
        "  * Ensure consecutive sentences are in consecutive rows (e.g., Sentence A in row i and Sentence B in row i+1).\n",
        "3. Create a custom Dataset class.\n",
        "  * For BERT training, each item should be in the format: `Sentence A + [SEP] + Sentence B`.\n",
        "  * The __getitem__ method should return the tokenization of (`Sentence A + [SEP] + Sentence B`).\n",
        "4. Create a DataCollatorForPreTraining class. This will be passed as the collate_fn in the DataLoader.\n",
        "  * The class should inherit from DataCollatorForLanguageModeling.\n",
        "  * Mask a few tokens from Sentence A.\n",
        "5. Create a DataLoader.\n",
        "6. Declare the model, loss, and optimizer.\n",
        "7. Prepare the accelerator for GPU and distributed training.\n",
        "8. Perform further training of the bert-based-uncased model.\n",
        "The Clinical BERT model is now ready.\n",
        "\n"
      ],
      "metadata": {
        "id": "xxvwNbX8PJpl"
      }
    },
    {
      "cell_type": "markdown",
      "source": [
        "# 1. Import Necessary Packages"
      ],
      "metadata": {
        "id": "lA4XlD7BY1hQ"
      }
    },
    {
      "cell_type": "code",
      "source": [
        "### 역자 추가 코드\n",
        "!pip install nltk==3.8.1"
      ],
      "metadata": {
        "id": "A85i1zuUuZAG",
        "colab": {
          "base_uri": "https://localhost:8080/"
        },
        "executionInfo": {
          "status": "ok",
          "timestamp": 1735349450193,
          "user_tz": -540,
          "elapsed": 5081,
          "user": {
            "displayName": "Ian Yim",
            "userId": "08695581898435441964"
          }
        },
        "outputId": "1946c3d7-206c-4de4-8f6d-d23577095445"
      },
      "execution_count": null,
      "outputs": [
        {
          "output_type": "stream",
          "name": "stdout",
          "text": [
            "Collecting nltk==3.8.1\n",
            "  Downloading nltk-3.8.1-py3-none-any.whl.metadata (2.8 kB)\n",
            "Requirement already satisfied: click in /usr/local/lib/python3.10/dist-packages (from nltk==3.8.1) (8.1.7)\n",
            "Requirement already satisfied: joblib in /usr/local/lib/python3.10/dist-packages (from nltk==3.8.1) (1.4.2)\n",
            "Requirement already satisfied: regex>=2021.8.3 in /usr/local/lib/python3.10/dist-packages (from nltk==3.8.1) (2024.11.6)\n",
            "Requirement already satisfied: tqdm in /usr/local/lib/python3.10/dist-packages (from nltk==3.8.1) (4.67.1)\n",
            "Downloading nltk-3.8.1-py3-none-any.whl (1.5 MB)\n",
            "\u001b[?25l   \u001b[90m━━━━━━━━━━━━━━━━━━━━━━━━━━━━━━━━━━━━━━━━\u001b[0m \u001b[32m0.0/1.5 MB\u001b[0m \u001b[31m?\u001b[0m eta \u001b[36m-:--:--\u001b[0m\r\u001b[2K   \u001b[90m━━━━━━━━━━━━━━━━━━━━━━━━━━━━━━━━━━━━━━━━\u001b[0m \u001b[32m1.5/1.5 MB\u001b[0m \u001b[31m50.5 MB/s\u001b[0m eta \u001b[36m0:00:00\u001b[0m\n",
            "\u001b[?25hInstalling collected packages: nltk\n",
            "  Attempting uninstall: nltk\n",
            "    Found existing installation: nltk 3.9.1\n",
            "    Uninstalling nltk-3.9.1:\n",
            "      Successfully uninstalled nltk-3.9.1\n",
            "Successfully installed nltk-3.8.1\n"
          ]
        }
      ]
    },
    {
      "cell_type": "code",
      "source": [
        "### 역자 추가 코드\n",
        "# nltk 버전 출력\n",
        "import nltk\n",
        "print(nltk.__version__)"
      ],
      "metadata": {
        "id": "9VB1o2DruZcO",
        "colab": {
          "base_uri": "https://localhost:8080/"
        },
        "executionInfo": {
          "status": "ok",
          "timestamp": 1735349458999,
          "user_tz": -540,
          "elapsed": 3834,
          "user": {
            "displayName": "Ian Yim",
            "userId": "08695581898435441964"
          }
        },
        "outputId": "ceb829d4-4040-40ea-f2f2-67127a54ed86"
      },
      "execution_count": null,
      "outputs": [
        {
          "output_type": "stream",
          "name": "stdout",
          "text": [
            "3.8.1\n"
          ]
        }
      ]
    },
    {
      "cell_type": "code",
      "source": [
        "### 역자 추가 코드\n",
        "# NLTK 데이터 다운로드\n",
        "nltk.download('punkt')"
      ],
      "metadata": {
        "id": "VndAFdCsuZjv",
        "colab": {
          "base_uri": "https://localhost:8080/"
        },
        "executionInfo": {
          "status": "ok",
          "timestamp": 1735349467006,
          "user_tz": -540,
          "elapsed": 1454,
          "user": {
            "displayName": "Ian Yim",
            "userId": "08695581898435441964"
          }
        },
        "outputId": "e65bcbeb-1eca-4955-faf1-c911edd37c16"
      },
      "execution_count": null,
      "outputs": [
        {
          "output_type": "stream",
          "name": "stderr",
          "text": [
            "[nltk_data] Downloading package punkt to /root/nltk_data...\n",
            "[nltk_data]   Unzipping tokenizers/punkt.zip.\n"
          ]
        },
        {
          "output_type": "execute_result",
          "data": {
            "text/plain": [
              "True"
            ]
          },
          "metadata": {},
          "execution_count": 3
        }
      ]
    },
    {
      "cell_type": "code",
      "execution_count": null,
      "metadata": {
        "id": "iWFzwrpLo4t4"
      },
      "outputs": [],
      "source": [
        "import torch\n",
        "import pandas as pd\n",
        "from torch.utils.data import DataLoader, Dataset\n",
        "from transformers import BartTokenizer, BartForConditionalGeneration\n",
        "from transformers import DataCollatorForSeq2Seq\n",
        "from accelerate import Accelerator\n",
        "\n",
        "accelerator = Accelerator()\n"
      ]
    },
    {
      "cell_type": "markdown",
      "source": [
        "# 2. Download the Dataset from Kaggle\n",
        "Please Download dataset from [https://www.kaggle.com/datasets/akashadesai/clinical-notes](https://www.kaggle.com/datasets/akashadesai/clinical-notes)"
      ],
      "metadata": {
        "id": "GqmvPO7DOuXm"
      }
    },
    {
      "cell_type": "code",
      "source": [],
      "metadata": {
        "id": "5Xhru1PAOrDf"
      },
      "execution_count": null,
      "outputs": []
    },
    {
      "cell_type": "markdown",
      "source": [
        "#3. Pre-process the Dataset\n",
        "The following function takes a dataframe as an argument. The dataframe contains a column named 'TEXT' which consists of clinical notes from different patients. In this function:\n",
        "\n",
        "* We remove special characters from the clinical notes.\n",
        "* We split the clinical notes into individual sentences.\n",
        "* We create a new dataframe, where each row holds a single sentence."
      ],
      "metadata": {
        "id": "5wI2mMbSZGS0"
      }
    },
    {
      "cell_type": "code",
      "source": [
        "import pandas as pd\n",
        "import nltk\n",
        "import re\n",
        "from nltk.tokenize import sent_tokenize\n",
        "\n",
        "def create_sentence_dataframe(df):\n",
        "    # 문장(sentences)을 담을 빈 리스트 생성\n",
        "    sentences = []\n",
        "\n",
        "    # 특수 문자 처리 패턴 생성\n",
        "    special_chars_pattern = re.compile(r'[^a-zA-Z0-9\\s.,?!]+|\\n')\n",
        "    # 데이터프레임의 각 행 기준으로 반복 루프\n",
        "    for text in df['TEXT']:\n",
        "        # 텍스트에서 특수 문자 제거\n",
        "        clean_text = special_chars_pattern.sub('', text)\n",
        "\n",
        "        # 클린 텍스트를 문장(sentences)으로 토큰화\n",
        "        tokenized_sentences = sent_tokenize(clean_text)\n",
        "\n",
        "        # 토큰화된 문장(sentences)을 리스트에 추가\n",
        "        sentences.extend(tokenized_sentences)\n",
        "\n",
        "    # 문장(sentences)을 담은 데이터프레임 생성\n",
        "    sentence_df = pd.DataFrame(sentences, columns=['text'])\n",
        "\n",
        "    return sentence_df"
      ],
      "metadata": {
        "id": "kb51QJr5m9Bg"
      },
      "execution_count": null,
      "outputs": []
    },
    {
      "cell_type": "code",
      "source": [
        "### 역자 추가 코드\n",
        "# 구글 드라이브 연동\n",
        "from google.colab import drive\n",
        "drive.mount('/content/drive')"
      ],
      "metadata": {
        "id": "6fOiSnr1urAa",
        "colab": {
          "base_uri": "https://localhost:8080/"
        },
        "executionInfo": {
          "status": "ok",
          "timestamp": 1735349617698,
          "user_tz": -540,
          "elapsed": 125405,
          "user": {
            "displayName": "Ian Yim",
            "userId": "08695581898435441964"
          }
        },
        "outputId": "cdf1a548-f5fe-4e63-dd93-ae2d251ed463"
      },
      "execution_count": null,
      "outputs": [
        {
          "output_type": "stream",
          "name": "stdout",
          "text": [
            "Mounted at /content/drive\n"
          ]
        }
      ]
    },
    {
      "cell_type": "code",
      "source": [],
      "metadata": {
        "id": "JxJdSTtPus6x"
      },
      "execution_count": null,
      "outputs": []
    },
    {
      "cell_type": "code",
      "source": [
        "# (이 책이 제공하는) medical_data.csv 데이터셋 파일은 구글 드라이브 경로에 저장 후, 불러오기\n",
        "data_txt = pd.read_csv(\"/content/drive/MyDrive/Book6/Ch5/medical_data.csv\")"
      ],
      "metadata": {
        "id": "ntUXw8wMp6T3"
      },
      "execution_count": null,
      "outputs": []
    },
    {
      "cell_type": "code",
      "source": [
        "pd.options.display.max_colwidth = 100\n",
        "data=create_sentence_dataframe(data_txt)"
      ],
      "metadata": {
        "id": "QJ5zoKgmnJS8"
      },
      "execution_count": null,
      "outputs": []
    },
    {
      "cell_type": "code",
      "source": [
        "data.shape"
      ],
      "metadata": {
        "colab": {
          "base_uri": "https://localhost:8080/"
        },
        "id": "1RdrOqKd5t7F",
        "executionInfo": {
          "status": "ok",
          "timestamp": 1735349707780,
          "user_tz": -540,
          "elapsed": 4,
          "user": {
            "displayName": "Ian Yim",
            "userId": "08695581898435441964"
          }
        },
        "outputId": "5a863447-08cb-4183-9099-c6928775ff1b"
      },
      "execution_count": null,
      "outputs": [
        {
          "output_type": "execute_result",
          "data": {
            "text/plain": [
              "(55583, 1)"
            ]
          },
          "metadata": {},
          "execution_count": 10
        }
      ]
    },
    {
      "cell_type": "code",
      "source": [
        "data.head()"
      ],
      "metadata": {
        "colab": {
          "base_uri": "https://localhost:8080/",
          "height": 206
        },
        "id": "YDbnS0y-qEAC",
        "outputId": "6308425d-9550-4647-854f-b3a0a01b6cb6",
        "executionInfo": {
          "status": "ok",
          "timestamp": 1735349678654,
          "user_tz": -540,
          "elapsed": 1029,
          "user": {
            "displayName": "Ian Yim",
            "userId": "08695581898435441964"
          }
        }
      },
      "execution_count": null,
      "outputs": [
        {
          "output_type": "execute_result",
          "data": {
            "text/plain": [
              "                                                                                                  text\n",
              "0  Admission Date  216233              Discharge Date   2162325Date of Birth  208014             Se...\n",
              "1        Known lastname 1829 was seen at Hospital1 18 after a mechanical fall froma height of 10 feet.\n",
              "2     CT scan noted unstable fracture of C67 posterior elements.Major Surgical or Invasive Procedure1.\n",
              "3  Anterior cervical osteotomy, C6C7, with decompression andexcision of ossification of the posteri...\n",
              "4                                                            Anterior cervical deformity correction.3."
            ],
            "text/html": [
              "\n",
              "  <div id=\"df-2e961cb2-715a-44ad-8bb0-c92b7abab2d7\" class=\"colab-df-container\">\n",
              "    <div>\n",
              "<style scoped>\n",
              "    .dataframe tbody tr th:only-of-type {\n",
              "        vertical-align: middle;\n",
              "    }\n",
              "\n",
              "    .dataframe tbody tr th {\n",
              "        vertical-align: top;\n",
              "    }\n",
              "\n",
              "    .dataframe thead th {\n",
              "        text-align: right;\n",
              "    }\n",
              "</style>\n",
              "<table border=\"1\" class=\"dataframe\">\n",
              "  <thead>\n",
              "    <tr style=\"text-align: right;\">\n",
              "      <th></th>\n",
              "      <th>text</th>\n",
              "    </tr>\n",
              "  </thead>\n",
              "  <tbody>\n",
              "    <tr>\n",
              "      <th>0</th>\n",
              "      <td>Admission Date  216233              Discharge Date   2162325Date of Birth  208014             Se...</td>\n",
              "    </tr>\n",
              "    <tr>\n",
              "      <th>1</th>\n",
              "      <td>Known lastname 1829 was seen at Hospital1 18 after a mechanical fall froma height of 10 feet.</td>\n",
              "    </tr>\n",
              "    <tr>\n",
              "      <th>2</th>\n",
              "      <td>CT scan noted unstable fracture of C67 posterior elements.Major Surgical or Invasive Procedure1.</td>\n",
              "    </tr>\n",
              "    <tr>\n",
              "      <th>3</th>\n",
              "      <td>Anterior cervical osteotomy, C6C7, with decompression andexcision of ossification of the posteri...</td>\n",
              "    </tr>\n",
              "    <tr>\n",
              "      <th>4</th>\n",
              "      <td>Anterior cervical deformity correction.3.</td>\n",
              "    </tr>\n",
              "  </tbody>\n",
              "</table>\n",
              "</div>\n",
              "    <div class=\"colab-df-buttons\">\n",
              "\n",
              "  <div class=\"colab-df-container\">\n",
              "    <button class=\"colab-df-convert\" onclick=\"convertToInteractive('df-2e961cb2-715a-44ad-8bb0-c92b7abab2d7')\"\n",
              "            title=\"Convert this dataframe to an interactive table.\"\n",
              "            style=\"display:none;\">\n",
              "\n",
              "  <svg xmlns=\"http://www.w3.org/2000/svg\" height=\"24px\" viewBox=\"0 -960 960 960\">\n",
              "    <path d=\"M120-120v-720h720v720H120Zm60-500h600v-160H180v160Zm220 220h160v-160H400v160Zm0 220h160v-160H400v160ZM180-400h160v-160H180v160Zm440 0h160v-160H620v160ZM180-180h160v-160H180v160Zm440 0h160v-160H620v160Z\"/>\n",
              "  </svg>\n",
              "    </button>\n",
              "\n",
              "  <style>\n",
              "    .colab-df-container {\n",
              "      display:flex;\n",
              "      gap: 12px;\n",
              "    }\n",
              "\n",
              "    .colab-df-convert {\n",
              "      background-color: #E8F0FE;\n",
              "      border: none;\n",
              "      border-radius: 50%;\n",
              "      cursor: pointer;\n",
              "      display: none;\n",
              "      fill: #1967D2;\n",
              "      height: 32px;\n",
              "      padding: 0 0 0 0;\n",
              "      width: 32px;\n",
              "    }\n",
              "\n",
              "    .colab-df-convert:hover {\n",
              "      background-color: #E2EBFA;\n",
              "      box-shadow: 0px 1px 2px rgba(60, 64, 67, 0.3), 0px 1px 3px 1px rgba(60, 64, 67, 0.15);\n",
              "      fill: #174EA6;\n",
              "    }\n",
              "\n",
              "    .colab-df-buttons div {\n",
              "      margin-bottom: 4px;\n",
              "    }\n",
              "\n",
              "    [theme=dark] .colab-df-convert {\n",
              "      background-color: #3B4455;\n",
              "      fill: #D2E3FC;\n",
              "    }\n",
              "\n",
              "    [theme=dark] .colab-df-convert:hover {\n",
              "      background-color: #434B5C;\n",
              "      box-shadow: 0px 1px 3px 1px rgba(0, 0, 0, 0.15);\n",
              "      filter: drop-shadow(0px 1px 2px rgba(0, 0, 0, 0.3));\n",
              "      fill: #FFFFFF;\n",
              "    }\n",
              "  </style>\n",
              "\n",
              "    <script>\n",
              "      const buttonEl =\n",
              "        document.querySelector('#df-2e961cb2-715a-44ad-8bb0-c92b7abab2d7 button.colab-df-convert');\n",
              "      buttonEl.style.display =\n",
              "        google.colab.kernel.accessAllowed ? 'block' : 'none';\n",
              "\n",
              "      async function convertToInteractive(key) {\n",
              "        const element = document.querySelector('#df-2e961cb2-715a-44ad-8bb0-c92b7abab2d7');\n",
              "        const dataTable =\n",
              "          await google.colab.kernel.invokeFunction('convertToInteractive',\n",
              "                                                    [key], {});\n",
              "        if (!dataTable) return;\n",
              "\n",
              "        const docLinkHtml = 'Like what you see? Visit the ' +\n",
              "          '<a target=\"_blank\" href=https://colab.research.google.com/notebooks/data_table.ipynb>data table notebook</a>'\n",
              "          + ' to learn more about interactive tables.';\n",
              "        element.innerHTML = '';\n",
              "        dataTable['output_type'] = 'display_data';\n",
              "        await google.colab.output.renderOutput(dataTable, element);\n",
              "        const docLink = document.createElement('div');\n",
              "        docLink.innerHTML = docLinkHtml;\n",
              "        element.appendChild(docLink);\n",
              "      }\n",
              "    </script>\n",
              "  </div>\n",
              "\n",
              "\n",
              "<div id=\"df-e5a299bf-e9dc-4fa1-bbc6-c801dfe24639\">\n",
              "  <button class=\"colab-df-quickchart\" onclick=\"quickchart('df-e5a299bf-e9dc-4fa1-bbc6-c801dfe24639')\"\n",
              "            title=\"Suggest charts\"\n",
              "            style=\"display:none;\">\n",
              "\n",
              "<svg xmlns=\"http://www.w3.org/2000/svg\" height=\"24px\"viewBox=\"0 0 24 24\"\n",
              "     width=\"24px\">\n",
              "    <g>\n",
              "        <path d=\"M19 3H5c-1.1 0-2 .9-2 2v14c0 1.1.9 2 2 2h14c1.1 0 2-.9 2-2V5c0-1.1-.9-2-2-2zM9 17H7v-7h2v7zm4 0h-2V7h2v10zm4 0h-2v-4h2v4z\"/>\n",
              "    </g>\n",
              "</svg>\n",
              "  </button>\n",
              "\n",
              "<style>\n",
              "  .colab-df-quickchart {\n",
              "      --bg-color: #E8F0FE;\n",
              "      --fill-color: #1967D2;\n",
              "      --hover-bg-color: #E2EBFA;\n",
              "      --hover-fill-color: #174EA6;\n",
              "      --disabled-fill-color: #AAA;\n",
              "      --disabled-bg-color: #DDD;\n",
              "  }\n",
              "\n",
              "  [theme=dark] .colab-df-quickchart {\n",
              "      --bg-color: #3B4455;\n",
              "      --fill-color: #D2E3FC;\n",
              "      --hover-bg-color: #434B5C;\n",
              "      --hover-fill-color: #FFFFFF;\n",
              "      --disabled-bg-color: #3B4455;\n",
              "      --disabled-fill-color: #666;\n",
              "  }\n",
              "\n",
              "  .colab-df-quickchart {\n",
              "    background-color: var(--bg-color);\n",
              "    border: none;\n",
              "    border-radius: 50%;\n",
              "    cursor: pointer;\n",
              "    display: none;\n",
              "    fill: var(--fill-color);\n",
              "    height: 32px;\n",
              "    padding: 0;\n",
              "    width: 32px;\n",
              "  }\n",
              "\n",
              "  .colab-df-quickchart:hover {\n",
              "    background-color: var(--hover-bg-color);\n",
              "    box-shadow: 0 1px 2px rgba(60, 64, 67, 0.3), 0 1px 3px 1px rgba(60, 64, 67, 0.15);\n",
              "    fill: var(--button-hover-fill-color);\n",
              "  }\n",
              "\n",
              "  .colab-df-quickchart-complete:disabled,\n",
              "  .colab-df-quickchart-complete:disabled:hover {\n",
              "    background-color: var(--disabled-bg-color);\n",
              "    fill: var(--disabled-fill-color);\n",
              "    box-shadow: none;\n",
              "  }\n",
              "\n",
              "  .colab-df-spinner {\n",
              "    border: 2px solid var(--fill-color);\n",
              "    border-color: transparent;\n",
              "    border-bottom-color: var(--fill-color);\n",
              "    animation:\n",
              "      spin 1s steps(1) infinite;\n",
              "  }\n",
              "\n",
              "  @keyframes spin {\n",
              "    0% {\n",
              "      border-color: transparent;\n",
              "      border-bottom-color: var(--fill-color);\n",
              "      border-left-color: var(--fill-color);\n",
              "    }\n",
              "    20% {\n",
              "      border-color: transparent;\n",
              "      border-left-color: var(--fill-color);\n",
              "      border-top-color: var(--fill-color);\n",
              "    }\n",
              "    30% {\n",
              "      border-color: transparent;\n",
              "      border-left-color: var(--fill-color);\n",
              "      border-top-color: var(--fill-color);\n",
              "      border-right-color: var(--fill-color);\n",
              "    }\n",
              "    40% {\n",
              "      border-color: transparent;\n",
              "      border-right-color: var(--fill-color);\n",
              "      border-top-color: var(--fill-color);\n",
              "    }\n",
              "    60% {\n",
              "      border-color: transparent;\n",
              "      border-right-color: var(--fill-color);\n",
              "    }\n",
              "    80% {\n",
              "      border-color: transparent;\n",
              "      border-right-color: var(--fill-color);\n",
              "      border-bottom-color: var(--fill-color);\n",
              "    }\n",
              "    90% {\n",
              "      border-color: transparent;\n",
              "      border-bottom-color: var(--fill-color);\n",
              "    }\n",
              "  }\n",
              "</style>\n",
              "\n",
              "  <script>\n",
              "    async function quickchart(key) {\n",
              "      const quickchartButtonEl =\n",
              "        document.querySelector('#' + key + ' button');\n",
              "      quickchartButtonEl.disabled = true;  // To prevent multiple clicks.\n",
              "      quickchartButtonEl.classList.add('colab-df-spinner');\n",
              "      try {\n",
              "        const charts = await google.colab.kernel.invokeFunction(\n",
              "            'suggestCharts', [key], {});\n",
              "      } catch (error) {\n",
              "        console.error('Error during call to suggestCharts:', error);\n",
              "      }\n",
              "      quickchartButtonEl.classList.remove('colab-df-spinner');\n",
              "      quickchartButtonEl.classList.add('colab-df-quickchart-complete');\n",
              "    }\n",
              "    (() => {\n",
              "      let quickchartButtonEl =\n",
              "        document.querySelector('#df-e5a299bf-e9dc-4fa1-bbc6-c801dfe24639 button');\n",
              "      quickchartButtonEl.style.display =\n",
              "        google.colab.kernel.accessAllowed ? 'block' : 'none';\n",
              "    })();\n",
              "  </script>\n",
              "</div>\n",
              "\n",
              "    </div>\n",
              "  </div>\n"
            ],
            "application/vnd.google.colaboratory.intrinsic+json": {
              "type": "dataframe",
              "variable_name": "data",
              "summary": "{\n  \"name\": \"data\",\n  \"rows\": 55583,\n  \"fields\": [\n    {\n      \"column\": \"text\",\n      \"properties\": {\n        \"dtype\": \"string\",\n        \"num_unique_values\": 50782,\n        \"samples\": [\n          \"Common bile duct obstruction with stent placement 220982. ho cholangitis complicated by GNR bacteremia, 520983.\",\n          \"Currently works as a part timechild caretaker.\",\n          \"Vitamin B12  Oral9.\"\n        ],\n        \"semantic_type\": \"\",\n        \"description\": \"\"\n      }\n    }\n  ]\n}"
            }
          },
          "metadata": {},
          "execution_count": 9
        }
      ]
    },
    {
      "cell_type": "code",
      "source": [
        "### 역자 추가 코드: 코랩 램 부족 현상을 완화하기 위해 데이터셋을 처음 1만 행만 다시 data 변수에 저장합니다.\n",
        "###              계속 코랩 램 부족 현상을 겪으면 아래 코드의 숫자를 5000, 1000, 500 이렇게 순차적으로 줄여봅니다.\n",
        "data = data.iloc[:10000]\n"
      ],
      "metadata": {
        "id": "PJNWD-jP55Gi"
      },
      "execution_count": null,
      "outputs": []
    },
    {
      "cell_type": "markdown",
      "source": [
        "#4. Create a custom Dataset class.\n",
        "* For BERT training, each item should be in the format: Sentence A + [SEP] + Sentence B.\n",
        "* The getitem method should return the tokenization of (Sentence A + [SEP] + Sentence B)."
      ],
      "metadata": {
        "id": "ZJ684tNVaDKs"
      }
    },
    {
      "cell_type": "code",
      "source": [
        "from transformers import BertTokenizer\n",
        "\n",
        "class ClinicalDataset(Dataset):\n",
        "    def __init__(self, data, tokenizer, max_length=512):\n",
        "        self.data = data\n",
        "        self.tokenizer = tokenizer\n",
        "        self.max_length = max_length\n",
        "\n",
        "    def __len__(self):\n",
        "        return len(self.data)\n",
        "\n",
        "    def __getitem__(self, idx):\n",
        "        news = self.data.loc[idx, \"text\"]\n",
        "        if idx + 1 < len(self.data):\n",
        "            next_news = self.data.loc[idx + 1, \"text\"]\n",
        "        else:\n",
        "            next_news = self.data.loc[0, \"text\"]\n",
        "\n",
        "        combined_news = news + \" [SEP] \" + next_news\n",
        "        tokenized = self.tokenizer(combined_news, truncation=True, padding=\"max_length\", max_length=self.max_length, return_tensors=\"pt\")\n",
        "        return {\"input_ids\": tokenized[\"input_ids\"].squeeze(0), \"attention_mask\": tokenized[\"attention_mask\"].squeeze(0), \"text\": combined_news}\n"
      ],
      "metadata": {
        "id": "u4MVzPSdqH4s"
      },
      "execution_count": null,
      "outputs": []
    },
    {
      "cell_type": "code",
      "source": [
        "tokenizer = BertTokenizer.from_pretrained(\"bert-base-uncased\")\n",
        "\n",
        "dataset=ClinicalDataset(data,tokenizer)\n",
        "dataset[0]"
      ],
      "metadata": {
        "colab": {
          "base_uri": "https://localhost:8080/",
          "height": 1000,
          "referenced_widgets": [
            "f1751b5966114a1eb4c550d7661bcaf9",
            "344e43c219b54b1fa1903e41257e5d32",
            "9ffffd249f344c1fb354fe3fff7f73ce",
            "8e7368b7eec1477d987067dee8192d81",
            "75554cb71f9f4845a59248f0c24bc206",
            "625dd5747eef4bae8484cd7e27d08162",
            "3c0c51e0063843cba1cfa77a6da4f5ed",
            "fd5b4ae0db83499187c53d2150e8f885",
            "3529cf8608004bdba3dc77b9c84621a7",
            "5af519adc1664a058aa5ccdf1257f0f6",
            "4836e7050db54deeaa7246d5a7baee44",
            "536853ede49c488da2c4c888cf1e7c10",
            "70954f32b370409ea345c3c9bdd3ad55",
            "07e03900e68e44b7af2a42f0cc26896a",
            "c8595ba45bb54d3ea20b0463eff48f87",
            "910b8680c2a04251b35eb5a83ac32710",
            "26c7f18c923247dabd540a01e62ca4e1",
            "395b2b3746ac4487ace6567081d3fab5",
            "f0b370a5bd974fc5807b24683893fb7d",
            "22f8a867d8d94736adb07e2bf90c83cb",
            "699fd18fc95a4939814fbefddb4a7de7",
            "764d45dde5ed4ede863ef2e715e1f2f3",
            "5d68a93dc81c41668685cfb42dcb6806",
            "053294a2c5af49a18126a3ebc78dfa2f",
            "8260e5ac25c1408c8750dadcf3647829",
            "53d2d02431f74a9f8f0bf2700cc4266b",
            "5a5f836904e541f7a471eef88adb98eb",
            "d851e5b4cce84a1d9cd24bebe90a9b42",
            "16336b24bfbb43a0924c7c6b9a8a38f1",
            "d0a4c03067324d9e9d11d3bcfa795efc",
            "7a4f1b43687c43eb97f430eb6969c3c1",
            "9b7187b1c2114651ba8032f2b1adc185",
            "3331f4f2baab4a04b49a251acd494810",
            "94860fcc4b40493abe7478cc68ac9360",
            "e57ea955e50040408861002fa0b01c77",
            "2e11bb25058e465ca2fd47ee47b23ba0",
            "e2d6f31daad249098e1a48d73e30989a",
            "c0991bb0db354af88fa05af51a5c47e5",
            "1aa22a5d5dd5433b8953f414c3fc7f4e",
            "17af67db37b34233a6237f0a5cd419c6",
            "7108631ac2354680aed7f0e8dddba658",
            "8b60a67b7c604d1dbb1486ce199c61cc",
            "1829de013d5f4778ab6520cb2c99f34f",
            "2349cbed42bf431782a6ebe03ce168f9"
          ]
        },
        "id": "y8yvyCS4xHn1",
        "outputId": "ee45b0ab-f567-4296-98b9-99370468a989",
        "executionInfo": {
          "status": "ok",
          "timestamp": 1735349938759,
          "user_tz": -540,
          "elapsed": 6300,
          "user": {
            "displayName": "Ian Yim",
            "userId": "08695581898435441964"
          }
        }
      },
      "execution_count": null,
      "outputs": [
        {
          "output_type": "stream",
          "name": "stderr",
          "text": [
            "/usr/local/lib/python3.10/dist-packages/huggingface_hub/utils/_auth.py:94: UserWarning: \n",
            "The secret `HF_TOKEN` does not exist in your Colab secrets.\n",
            "To authenticate with the Hugging Face Hub, create a token in your settings tab (https://huggingface.co/settings/tokens), set it as secret in your Google Colab and restart your session.\n",
            "You will be able to reuse this secret in all of your notebooks.\n",
            "Please note that authentication is recommended but still optional to access public models or datasets.\n",
            "  warnings.warn(\n"
          ]
        },
        {
          "output_type": "display_data",
          "data": {
            "text/plain": [
              "tokenizer_config.json:   0%|          | 0.00/48.0 [00:00<?, ?B/s]"
            ],
            "application/vnd.jupyter.widget-view+json": {
              "version_major": 2,
              "version_minor": 0,
              "model_id": "f1751b5966114a1eb4c550d7661bcaf9"
            }
          },
          "metadata": {}
        },
        {
          "output_type": "display_data",
          "data": {
            "text/plain": [
              "vocab.txt:   0%|          | 0.00/232k [00:00<?, ?B/s]"
            ],
            "application/vnd.jupyter.widget-view+json": {
              "version_major": 2,
              "version_minor": 0,
              "model_id": "536853ede49c488da2c4c888cf1e7c10"
            }
          },
          "metadata": {}
        },
        {
          "output_type": "display_data",
          "data": {
            "text/plain": [
              "tokenizer.json:   0%|          | 0.00/466k [00:00<?, ?B/s]"
            ],
            "application/vnd.jupyter.widget-view+json": {
              "version_major": 2,
              "version_minor": 0,
              "model_id": "5d68a93dc81c41668685cfb42dcb6806"
            }
          },
          "metadata": {}
        },
        {
          "output_type": "display_data",
          "data": {
            "text/plain": [
              "config.json:   0%|          | 0.00/570 [00:00<?, ?B/s]"
            ],
            "application/vnd.jupyter.widget-view+json": {
              "version_major": 2,
              "version_minor": 0,
              "model_id": "94860fcc4b40493abe7478cc68ac9360"
            }
          },
          "metadata": {}
        },
        {
          "output_type": "execute_result",
          "data": {
            "text/plain": [
              "{'input_ids': tensor([  101,  9634,  3058, 20294, 21926,  2509, 11889,  3058, 20294, 21926,\n",
              "         17788, 13701,  1997,  4182, 18512, 24096,  2549,  3348,  5796,  2121,\n",
              "          7903,  2063,  4200, 24164, 10623,  3111, 24343,  2680,  2004,  2383,\n",
              "          2053,  2124,  2035,  2121, 17252,  2000,  5850, 19321, 18537,  8873,\n",
              "         12096,  2171,  2509,  1048,  2546, 11517,  5428, 12879, 12087,  2213,\n",
              "          2099,  1012,   102,  2124,  2197, 18442, 11523,  2001,  2464,  2012,\n",
              "          2902,  2487,  2324,  2044,  1037,  6228,  2991,  2013,  2050,  4578,\n",
              "          1997,  2184,  2519,  1012,   102,     0,     0,     0,     0,     0,\n",
              "             0,     0,     0,     0,     0,     0,     0,     0,     0,     0,\n",
              "             0,     0,     0,     0,     0,     0,     0,     0,     0,     0,\n",
              "             0,     0,     0,     0,     0,     0,     0,     0,     0,     0,\n",
              "             0,     0,     0,     0,     0,     0,     0,     0,     0,     0,\n",
              "             0,     0,     0,     0,     0,     0,     0,     0,     0,     0,\n",
              "             0,     0,     0,     0,     0,     0,     0,     0,     0,     0,\n",
              "             0,     0,     0,     0,     0,     0,     0,     0,     0,     0,\n",
              "             0,     0,     0,     0,     0,     0,     0,     0,     0,     0,\n",
              "             0,     0,     0,     0,     0,     0,     0,     0,     0,     0,\n",
              "             0,     0,     0,     0,     0,     0,     0,     0,     0,     0,\n",
              "             0,     0,     0,     0,     0,     0,     0,     0,     0,     0,\n",
              "             0,     0,     0,     0,     0,     0,     0,     0,     0,     0,\n",
              "             0,     0,     0,     0,     0,     0,     0,     0,     0,     0,\n",
              "             0,     0,     0,     0,     0,     0,     0,     0,     0,     0,\n",
              "             0,     0,     0,     0,     0,     0,     0,     0,     0,     0,\n",
              "             0,     0,     0,     0,     0,     0,     0,     0,     0,     0,\n",
              "             0,     0,     0,     0,     0,     0,     0,     0,     0,     0,\n",
              "             0,     0,     0,     0,     0,     0,     0,     0,     0,     0,\n",
              "             0,     0,     0,     0,     0,     0,     0,     0,     0,     0,\n",
              "             0,     0,     0,     0,     0,     0,     0,     0,     0,     0,\n",
              "             0,     0,     0,     0,     0,     0,     0,     0,     0,     0,\n",
              "             0,     0,     0,     0,     0,     0,     0,     0,     0,     0,\n",
              "             0,     0,     0,     0,     0,     0,     0,     0,     0,     0,\n",
              "             0,     0,     0,     0,     0,     0,     0,     0,     0,     0,\n",
              "             0,     0,     0,     0,     0,     0,     0,     0,     0,     0,\n",
              "             0,     0,     0,     0,     0,     0,     0,     0,     0,     0,\n",
              "             0,     0,     0,     0,     0,     0,     0,     0,     0,     0,\n",
              "             0,     0,     0,     0,     0,     0,     0,     0,     0,     0,\n",
              "             0,     0,     0,     0,     0,     0,     0,     0,     0,     0,\n",
              "             0,     0,     0,     0,     0,     0,     0,     0,     0,     0,\n",
              "             0,     0,     0,     0,     0,     0,     0,     0,     0,     0,\n",
              "             0,     0,     0,     0,     0,     0,     0,     0,     0,     0,\n",
              "             0,     0,     0,     0,     0,     0,     0,     0,     0,     0,\n",
              "             0,     0,     0,     0,     0,     0,     0,     0,     0,     0,\n",
              "             0,     0,     0,     0,     0,     0,     0,     0,     0,     0,\n",
              "             0,     0,     0,     0,     0,     0,     0,     0,     0,     0,\n",
              "             0,     0,     0,     0,     0,     0,     0,     0,     0,     0,\n",
              "             0,     0,     0,     0,     0,     0,     0,     0,     0,     0,\n",
              "             0,     0,     0,     0,     0,     0,     0,     0,     0,     0,\n",
              "             0,     0,     0,     0,     0,     0,     0,     0,     0,     0,\n",
              "             0,     0,     0,     0,     0,     0,     0,     0,     0,     0,\n",
              "             0,     0,     0,     0,     0,     0,     0,     0,     0,     0,\n",
              "             0,     0,     0,     0,     0,     0,     0,     0,     0,     0,\n",
              "             0,     0]),\n",
              " 'attention_mask': tensor([1, 1, 1, 1, 1, 1, 1, 1, 1, 1, 1, 1, 1, 1, 1, 1, 1, 1, 1, 1, 1, 1, 1, 1,\n",
              "         1, 1, 1, 1, 1, 1, 1, 1, 1, 1, 1, 1, 1, 1, 1, 1, 1, 1, 1, 1, 1, 1, 1, 1,\n",
              "         1, 1, 1, 1, 1, 1, 1, 1, 1, 1, 1, 1, 1, 1, 1, 1, 1, 1, 1, 1, 1, 1, 1, 1,\n",
              "         1, 1, 1, 0, 0, 0, 0, 0, 0, 0, 0, 0, 0, 0, 0, 0, 0, 0, 0, 0, 0, 0, 0, 0,\n",
              "         0, 0, 0, 0, 0, 0, 0, 0, 0, 0, 0, 0, 0, 0, 0, 0, 0, 0, 0, 0, 0, 0, 0, 0,\n",
              "         0, 0, 0, 0, 0, 0, 0, 0, 0, 0, 0, 0, 0, 0, 0, 0, 0, 0, 0, 0, 0, 0, 0, 0,\n",
              "         0, 0, 0, 0, 0, 0, 0, 0, 0, 0, 0, 0, 0, 0, 0, 0, 0, 0, 0, 0, 0, 0, 0, 0,\n",
              "         0, 0, 0, 0, 0, 0, 0, 0, 0, 0, 0, 0, 0, 0, 0, 0, 0, 0, 0, 0, 0, 0, 0, 0,\n",
              "         0, 0, 0, 0, 0, 0, 0, 0, 0, 0, 0, 0, 0, 0, 0, 0, 0, 0, 0, 0, 0, 0, 0, 0,\n",
              "         0, 0, 0, 0, 0, 0, 0, 0, 0, 0, 0, 0, 0, 0, 0, 0, 0, 0, 0, 0, 0, 0, 0, 0,\n",
              "         0, 0, 0, 0, 0, 0, 0, 0, 0, 0, 0, 0, 0, 0, 0, 0, 0, 0, 0, 0, 0, 0, 0, 0,\n",
              "         0, 0, 0, 0, 0, 0, 0, 0, 0, 0, 0, 0, 0, 0, 0, 0, 0, 0, 0, 0, 0, 0, 0, 0,\n",
              "         0, 0, 0, 0, 0, 0, 0, 0, 0, 0, 0, 0, 0, 0, 0, 0, 0, 0, 0, 0, 0, 0, 0, 0,\n",
              "         0, 0, 0, 0, 0, 0, 0, 0, 0, 0, 0, 0, 0, 0, 0, 0, 0, 0, 0, 0, 0, 0, 0, 0,\n",
              "         0, 0, 0, 0, 0, 0, 0, 0, 0, 0, 0, 0, 0, 0, 0, 0, 0, 0, 0, 0, 0, 0, 0, 0,\n",
              "         0, 0, 0, 0, 0, 0, 0, 0, 0, 0, 0, 0, 0, 0, 0, 0, 0, 0, 0, 0, 0, 0, 0, 0,\n",
              "         0, 0, 0, 0, 0, 0, 0, 0, 0, 0, 0, 0, 0, 0, 0, 0, 0, 0, 0, 0, 0, 0, 0, 0,\n",
              "         0, 0, 0, 0, 0, 0, 0, 0, 0, 0, 0, 0, 0, 0, 0, 0, 0, 0, 0, 0, 0, 0, 0, 0,\n",
              "         0, 0, 0, 0, 0, 0, 0, 0, 0, 0, 0, 0, 0, 0, 0, 0, 0, 0, 0, 0, 0, 0, 0, 0,\n",
              "         0, 0, 0, 0, 0, 0, 0, 0, 0, 0, 0, 0, 0, 0, 0, 0, 0, 0, 0, 0, 0, 0, 0, 0,\n",
              "         0, 0, 0, 0, 0, 0, 0, 0, 0, 0, 0, 0, 0, 0, 0, 0, 0, 0, 0, 0, 0, 0, 0, 0,\n",
              "         0, 0, 0, 0, 0, 0, 0, 0]),\n",
              " 'text': 'Admission Date  216233              Discharge Date   2162325Date of Birth  208014             Sex   MService MEDICINEAllergiesPatient recorded as having No Known Allergies to DrugsAttendingFirst Name3 LF 1828Chief ComplaintMr. [SEP] Known lastname 1829 was seen at Hospital1 18 after a mechanical fall froma height of 10 feet.'}"
            ]
          },
          "metadata": {},
          "execution_count": 13
        }
      ]
    },
    {
      "cell_type": "code",
      "source": [
        "tokenizer.sep_token_id"
      ],
      "metadata": {
        "colab": {
          "base_uri": "https://localhost:8080/"
        },
        "id": "vJrjm2mwpMNL",
        "outputId": "f58a9025-3140-46a9-b2a4-e9fd564b7013",
        "executionInfo": {
          "status": "ok",
          "timestamp": 1735349948009,
          "user_tz": -540,
          "elapsed": 1060,
          "user": {
            "displayName": "Ian Yim",
            "userId": "08695581898435441964"
          }
        }
      },
      "execution_count": null,
      "outputs": [
        {
          "output_type": "execute_result",
          "data": {
            "text/plain": [
              "102"
            ]
          },
          "metadata": {},
          "execution_count": 14
        }
      ]
    },
    {
      "cell_type": "markdown",
      "source": [
        "# 5. Create a DataCollatorForPreTraining class\n",
        "This is what we are performing in the `DataCollatorForPreTraining` class:\n",
        "1. We inherit from the DataCollatorForLanguageModeling class provided by the Hugging Face Transformers library. We will use `DataCollatorForLanguageModeling` for the MLM.\n",
        "2. We override the __call__ method to process the input examples for the pre-training task.\n",
        "  * We initialize lists to store NSP labels, input IDs, attention masks, and labels for each example.\n",
        "  * We aim to create 50% sentence pairs as NSP (Next Sentence Prediction) True and 50% sentence pairs as NSP False.\n",
        "  * In the following function, if random.random() > 0.5, we consider the sentence pair as a True NSP pair. Since the data coming from the Dataset class is already a True NSP pair, we don't need to modify it.\n",
        "  * On the other hand, if random.random() < 0.5, we consider the sentence pair as a False NSP pair. To achieve this, we shuffle the tokens in the next sentence. As a result, the sentence after [SEP] is not the true next sentence, making it an NSP False pair.\n",
        "3. We use the parent class's __call__ method to handle the MLM task for the examples.\n",
        "4. We add NSP labels to the batch and return the final batch for further processing in the pre-training loop."
      ],
      "metadata": {
        "id": "MaTw0obTbYwn"
      }
    },
    {
      "cell_type": "code",
      "source": [
        "from transformers import DataCollatorForLanguageModeling\n",
        "import random\n",
        "\n",
        "class DataCollatorForPreTraining(DataCollatorForLanguageModeling):\n",
        "    def __init__(self, tokenizer, mlm=True, mlm_probability=0.15, nsp_probability=0.5):\n",
        "        super().__init__(tokenizer=tokenizer, mlm=mlm, mlm_probability=mlm_probability)\n",
        "        self.nsp_probability = nsp_probability\n",
        "\n",
        "    def __call__(self, examples):\n",
        "        # NSP 레이블\n",
        "        nsp_labels = []\n",
        "\n",
        "        input_ids_list = []\n",
        "        attention_masks_list = []\n",
        "        labels_list = []\n",
        "\n",
        "        # NSP 입력 생성\n",
        "        for example in examples:\n",
        "            input_ids = example[\"input_ids\"]\n",
        "            attention_mask = example[\"attention_mask\"]\n",
        "\n",
        "            if random.random() > self.nsp_probability:\n",
        "                # Is Next Sentence\n",
        "                nsp_labels.append(1)\n",
        "            else:\n",
        "                # Not Next Sentence\n",
        "                nsp_labels.append(0)\n",
        "\n",
        "                # 두 번째 sentence 셔플\n",
        "                sep_idx = (input_ids == self.tokenizer.sep_token_id).nonzero(as_tuple=True)[0][0].item()\n",
        "                second_sentence = input_ids[sep_idx + 1:]\n",
        "                second_sentence = second_sentence[torch.randperm(second_sentence.size()[0])]\n",
        "\n",
        "                # 첫 번째 sentence와 셔플된 두 번째 sentence 병합\n",
        "                input_ids = torch.cat((input_ids[:sep_idx + 1], second_sentence), dim=0)\n",
        "\n",
        "            input_ids_list.append(input_ids)\n",
        "            attention_masks_list.append(attention_mask)\n",
        "\n",
        "            # 첫 번째 sentence만 마스킹\n",
        "            sep_idx = (input_ids == self.tokenizer.sep_token_id).nonzero(as_tuple=True)[0][0].item()\n",
        "            labels = input_ids.clone()\n",
        "            labels[sep_idx:] = -100\n",
        "            labels_list.append(labels)\n",
        "\n",
        "        # 부모(parent) 클래스용 딕셔너리 리스트 생성\n",
        "        example_dicts = [{\"input_ids\": ids, \"attention_mask\": mask, \"labels\": lbl} for ids, mask, lbl in zip(input_ids_list, attention_masks_list, labels_list)]\n",
        "\n",
        "        # 부모 클래스를 사용해서 MLM 처리\n",
        "        batch = super().__call__(example_dicts)\n",
        "\n",
        "        # 배치에 NSP 레이블 추가\n",
        "        batch[\"next_sentence_label\"] = torch.tensor(nsp_labels, dtype=torch.long)\n",
        "\n",
        "        return batch\n"
      ],
      "metadata": {
        "id": "GAErEYgzqoyf"
      },
      "execution_count": null,
      "outputs": []
    },
    {
      "cell_type": "markdown",
      "source": [
        "# 6. Create DataLoader\n",
        "Let's Discuss each item of dataloader.\n",
        "1. input_ids: It is token number of each token. The padded token has the token number of 0.\n",
        "2. attention_mask: 1 signifies true token, 0 signifies padded token\n",
        "3. labels: It is the label for Masked Language Modeling task.\n",
        " * `-100` means do not use that token to calculate loss function; or, the correspoding token will not be masked\n",
        " * non `-100` signifies that the corresponding token will be masked and use for MLM pre-training objective.\n",
        "\n"
      ],
      "metadata": {
        "id": "kwpZY7VJe6eQ"
      }
    },
    {
      "cell_type": "code",
      "source": [
        "from torch.utils.data import DataLoader\n",
        "\n",
        "# 토크나이저, 데이터셋, 데이터 콜레이터(collator) 초기화\n",
        "data_collator = DataCollatorForPreTraining(tokenizer)\n",
        "\n",
        "# DataLoader 생성\n",
        "train_dataloader = DataLoader(\n",
        "    dataset, shuffle=True, collate_fn=data_collator, batch_size=16\n",
        ")"
      ],
      "metadata": {
        "id": "jTr4YhD-5s1b"
      },
      "execution_count": null,
      "outputs": []
    },
    {
      "cell_type": "markdown",
      "source": [
        "## 6.1 We are just reviewing what dataloader looks like."
      ],
      "metadata": {
        "id": "5XswTHUN2ZjB"
      }
    },
    {
      "cell_type": "code",
      "source": [
        "item=next(iter(train_dataloader))\n"
      ],
      "metadata": {
        "id": "QYTPzWhlq0Oc"
      },
      "execution_count": null,
      "outputs": []
    },
    {
      "cell_type": "code",
      "source": [
        "print(len(train_dataloader))\n",
        "print('ids', item['input_ids'][0])\n",
        "print('mask', item['attention_mask'][0])\n",
        "print('labels', item['labels'][0])\n",
        "print('next_sentence_label',item['next_sentence_label'][0])"
      ],
      "metadata": {
        "colab": {
          "base_uri": "https://localhost:8080/"
        },
        "id": "NdmccWuaFztq",
        "outputId": "7fe87ca2-5175-4db2-f0fc-1c68a1148cea",
        "executionInfo": {
          "status": "ok",
          "timestamp": 1735349968803,
          "user_tz": -540,
          "elapsed": 3,
          "user": {
            "displayName": "Ian Yim",
            "userId": "08695581898435441964"
          }
        }
      },
      "execution_count": null,
      "outputs": [
        {
          "output_type": "stream",
          "name": "stdout",
          "text": [
            "625\n",
            "ids tensor([  101,  9052,  7657,  2566,  5555, 25070,  1041,   103, 14499,  2007,\n",
            "        15464, 26029,  9648,  1010,  1039,  2595,  2099,  7283,  5182,  8723,\n",
            "          103, 16643, 19172,   103,   102,     0,     0,     0,     0,     0,\n",
            "            0,     0,     0,     0,     0,     0,     0,     0, 12636,     0,\n",
            "            0,     0,     0,     0,     0,     0,     0,     0,     0,     0,\n",
            "            0,     0,     0,     0,     0,     0,     0,     0,     0,     0,\n",
            "            0,     0,     0,     0, 15050,     0,     0,     0,     0,     0,\n",
            "         2100,     0,     0,     0,     0,     0,   103,     0,     0,     0,\n",
            "            0,     0,     0,     0,     0,     0,     0,     0,     0,     0,\n",
            "            0,     0,     0,     0,     0,     0,     0,     0,     0,     0,\n",
            "            0,     0,     0,     0,     0,     0,  9312,     0,     0,     0,\n",
            "            0,     0,     0,     0,     0,     0,     0,     0,     0,     0,\n",
            "            0,     0,     0,     0,     0,     0,     0,     0,     0,     0,\n",
            "            0,     0,     0,     0,     0,     0,     0,     0,     0,     0,\n",
            "            0,     0,     0,     0,     0,     0,     0,     0,     0,     0,\n",
            "            0,     0,     0,     0,     0,     0,     0,     0,     0,     0,\n",
            "            0,     0,     0,     0,     0,     0,     0,     0,     0,  2005,\n",
            "            0,     0,     0,     0,     0,     0,     0,     0,     0,     0,\n",
            "            0,     0,     0,     0,     0,     0,     0,     0,     0,     0,\n",
            "            0,     0,     0,     0,     0,     0,     0,     0,     0,     0,\n",
            "            0,     0,     0,     0,     0,     0,     0,     0,     0,     0,\n",
            "            0,     0,     0,     0,     0,     0,     0,     0,     0,     0,\n",
            "            0,     0,     0,  2170,     0,     0,     0,     0,     0,     0,\n",
            "            0,     0,     0,     0,     0,     0,     0,     0,     0,     0,\n",
            "          103,     0,     0,     0,     0,     0,     0,     0,     0,     0,\n",
            "            0,     0,     0,     0,     0,     0,     0,     0,     0,     0,\n",
            "            0,     0,     0,     0,   102,     0,     0,     0,     0,     0,\n",
            "            0,     0,     0,     0,     0,     0,     0,     0,     0,     0,\n",
            "            0,     0,     0,     0,     0,     0,     0,     0,     0,     0,\n",
            "            0,     0,     0,     0,     0,     0,     0,     0,     0,     0,\n",
            "            0,     0,     0,     0,     0,     0,     0,     0,     0,     0,\n",
            "            0,     0,     0,     0,     0,     0,     0,     0,     0,     0,\n",
            "            0,     0,     0,     0,     0,     0,     0,     0,     0,     0,\n",
            "            0,     0,     0,     0,     0,     0,     0,     0,     0,     0,\n",
            "          103,     0,     0,     0,     0,     0,     0,     0,     0,     0,\n",
            "            0,     0,     0,     0,     0,     0, 26210,     0,     0,     0,\n",
            "            0,     0,     0,     0,     0,     0,     0,     0,     0,     0,\n",
            "            0,     0,     0,     0,     0,     0,     0,     0,     0,     0,\n",
            "            0,     0,     0,     0,     0,     0,     0,     0,     0,     0,\n",
            "            0,     0,     0,     0,     0,     0,     0,     0,     0,     0,\n",
            "            0,     0,     0,     0,     0,     0,     0,     0,     0,     0,\n",
            "            0,     0,     0,     0,     0,     0,     0,     0,     0,     0,\n",
            "            0,     0,     0,     0,     0,     0,     0,     0,  1012,     0,\n",
            "            0,     0,     0,     0,     0,     0,     0,     0,     0,     0,\n",
            "            0,     0,     0,     0,     0,     0,     0,     0,     0,     0,\n",
            "            0,     0,     0,     0,     0,     0,     0,     0,     0,     0,\n",
            "            0,     0,     0,     0,     0,     0,     0,     0,     0,     0,\n",
            "            0,     0,     0,     0,     0,     0,     0,     0,     0,     0,\n",
            "            0,     0,     0,     0,     0,     0,     0,     0,     0,     0,\n",
            "            0,     0,     0,     0,     0,     0,     0,     0,     0,     0,\n",
            "            0,     0,     0,     0,     0,     0,     0,     0,     0,     0,\n",
            "            0,     0])\n",
            "mask tensor([1, 1, 1, 1, 1, 1, 1, 1, 1, 1, 1, 1, 1, 1, 1, 1, 1, 1, 1, 1, 1, 1, 1, 1,\n",
            "        1, 1, 1, 1, 1, 1, 1, 1, 1, 1, 1, 1, 1, 0, 0, 0, 0, 0, 0, 0, 0, 0, 0, 0,\n",
            "        0, 0, 0, 0, 0, 0, 0, 0, 0, 0, 0, 0, 0, 0, 0, 0, 0, 0, 0, 0, 0, 0, 0, 0,\n",
            "        0, 0, 0, 0, 0, 0, 0, 0, 0, 0, 0, 0, 0, 0, 0, 0, 0, 0, 0, 0, 0, 0, 0, 0,\n",
            "        0, 0, 0, 0, 0, 0, 0, 0, 0, 0, 0, 0, 0, 0, 0, 0, 0, 0, 0, 0, 0, 0, 0, 0,\n",
            "        0, 0, 0, 0, 0, 0, 0, 0, 0, 0, 0, 0, 0, 0, 0, 0, 0, 0, 0, 0, 0, 0, 0, 0,\n",
            "        0, 0, 0, 0, 0, 0, 0, 0, 0, 0, 0, 0, 0, 0, 0, 0, 0, 0, 0, 0, 0, 0, 0, 0,\n",
            "        0, 0, 0, 0, 0, 0, 0, 0, 0, 0, 0, 0, 0, 0, 0, 0, 0, 0, 0, 0, 0, 0, 0, 0,\n",
            "        0, 0, 0, 0, 0, 0, 0, 0, 0, 0, 0, 0, 0, 0, 0, 0, 0, 0, 0, 0, 0, 0, 0, 0,\n",
            "        0, 0, 0, 0, 0, 0, 0, 0, 0, 0, 0, 0, 0, 0, 0, 0, 0, 0, 0, 0, 0, 0, 0, 0,\n",
            "        0, 0, 0, 0, 0, 0, 0, 0, 0, 0, 0, 0, 0, 0, 0, 0, 0, 0, 0, 0, 0, 0, 0, 0,\n",
            "        0, 0, 0, 0, 0, 0, 0, 0, 0, 0, 0, 0, 0, 0, 0, 0, 0, 0, 0, 0, 0, 0, 0, 0,\n",
            "        0, 0, 0, 0, 0, 0, 0, 0, 0, 0, 0, 0, 0, 0, 0, 0, 0, 0, 0, 0, 0, 0, 0, 0,\n",
            "        0, 0, 0, 0, 0, 0, 0, 0, 0, 0, 0, 0, 0, 0, 0, 0, 0, 0, 0, 0, 0, 0, 0, 0,\n",
            "        0, 0, 0, 0, 0, 0, 0, 0, 0, 0, 0, 0, 0, 0, 0, 0, 0, 0, 0, 0, 0, 0, 0, 0,\n",
            "        0, 0, 0, 0, 0, 0, 0, 0, 0, 0, 0, 0, 0, 0, 0, 0, 0, 0, 0, 0, 0, 0, 0, 0,\n",
            "        0, 0, 0, 0, 0, 0, 0, 0, 0, 0, 0, 0, 0, 0, 0, 0, 0, 0, 0, 0, 0, 0, 0, 0,\n",
            "        0, 0, 0, 0, 0, 0, 0, 0, 0, 0, 0, 0, 0, 0, 0, 0, 0, 0, 0, 0, 0, 0, 0, 0,\n",
            "        0, 0, 0, 0, 0, 0, 0, 0, 0, 0, 0, 0, 0, 0, 0, 0, 0, 0, 0, 0, 0, 0, 0, 0,\n",
            "        0, 0, 0, 0, 0, 0, 0, 0, 0, 0, 0, 0, 0, 0, 0, 0, 0, 0, 0, 0, 0, 0, 0, 0,\n",
            "        0, 0, 0, 0, 0, 0, 0, 0, 0, 0, 0, 0, 0, 0, 0, 0, 0, 0, 0, 0, 0, 0, 0, 0,\n",
            "        0, 0, 0, 0, 0, 0, 0, 0])\n",
            "labels tensor([-100, -100, -100, -100, -100, -100, -100, 4246, -100, -100, -100, -100,\n",
            "        -100, -100, -100, -100, -100, -100, 7657, -100, 2865, -100, -100, 1012,\n",
            "        -100, -100, -100, -100, -100, -100, -100, -100, -100, -100, -100, -100,\n",
            "        -100, -100, -100, -100, -100, -100, -100, -100, -100, -100, -100, -100,\n",
            "        -100, -100, -100, -100, -100, -100, -100, -100, -100, -100, -100, -100,\n",
            "        -100, -100, -100, -100, -100, -100, -100, -100, -100, -100, -100, -100,\n",
            "        -100, -100, -100, -100, 2003, -100, -100, -100, -100, -100, -100, -100,\n",
            "        -100, -100, -100, -100, -100, -100, -100, -100, -100, -100, -100, -100,\n",
            "        -100, -100, -100, -100, -100, -100, -100, -100, -100, -100, -100, -100,\n",
            "        -100, -100, -100, -100, -100, -100, -100, -100, -100, -100, -100, -100,\n",
            "        -100, -100, -100, -100, -100, -100, -100, -100, -100, -100, -100, -100,\n",
            "        -100, -100, -100, -100, -100, -100, -100, -100, -100, -100, -100, -100,\n",
            "        -100, -100, -100, -100, -100, -100, -100, -100, -100, -100, -100, -100,\n",
            "        -100, -100, -100, -100, -100, -100, -100, -100, -100, -100, -100, -100,\n",
            "        -100, -100, -100, -100, -100, -100, -100, -100, -100, -100, -100, -100,\n",
            "        -100, -100, -100, -100, -100, -100, -100, -100, -100, -100, -100, -100,\n",
            "        -100, -100, -100, -100, -100, -100, -100, -100, -100, -100, -100, -100,\n",
            "        -100, -100, -100, -100, -100, -100, -100, -100, -100, -100, -100, -100,\n",
            "        -100, -100, -100, -100, -100, -100, -100, -100, -100, -100, -100, -100,\n",
            "        -100, -100, -100, -100, -100, -100, -100, -100, -100, -100, -100, -100,\n",
            "        4590, -100, -100, -100, -100, -100, -100, -100, -100, -100, -100, -100,\n",
            "        -100, -100, -100, -100, -100, -100, -100, -100, -100, -100, -100, -100,\n",
            "        -100, -100, -100, -100, -100, -100, -100, -100, -100, -100, -100, -100,\n",
            "        -100, -100, -100, -100, -100, -100, -100, -100, -100, -100, -100, -100,\n",
            "        -100, -100, -100, -100, -100, -100, -100, -100, -100, -100, -100, -100,\n",
            "        -100, -100, -100, -100, -100, -100, -100, -100, -100, -100, -100, -100,\n",
            "        -100, -100, -100, -100, -100, -100, -100, -100, -100, -100, -100, -100,\n",
            "        -100, -100, -100, -100, -100, -100, -100, -100, -100, -100, -100, -100,\n",
            "        -100, -100, -100, -100, 3372, -100, -100, -100, -100, -100, -100, -100,\n",
            "        -100, -100, -100, -100, -100, -100, -100, -100, -100, -100, -100, -100,\n",
            "        -100, -100, -100, -100, -100, -100, -100, -100, -100, -100, -100, -100,\n",
            "        -100, -100, -100, -100, -100, -100, -100, -100, -100, -100, -100, -100,\n",
            "        -100, -100, -100, -100, -100, -100, -100, -100, -100, -100, -100, -100,\n",
            "        -100, -100, -100, -100, -100, -100, -100, -100, -100, -100, -100, -100,\n",
            "        -100, -100, -100, -100, -100, -100, -100, -100, -100, -100, -100, -100,\n",
            "        -100, -100, -100, -100, -100, -100, -100, -100, -100, -100, -100, -100,\n",
            "        -100, -100, -100, -100, -100, -100, -100, -100, -100, -100, -100, -100,\n",
            "        -100, -100, -100, -100, -100, -100, -100, -100, -100, -100, -100, -100,\n",
            "        -100, -100, -100, -100, -100, -100, -100, -100, -100, -100, -100, -100,\n",
            "        -100, -100, -100, -100, -100, -100, -100, -100, -100, -100, -100, -100,\n",
            "        -100, -100, -100, -100, -100, -100, -100, -100, -100, -100, -100, -100,\n",
            "        -100, -100, -100, -100, -100, -100, -100, -100, -100, -100, -100, -100,\n",
            "        -100, -100, -100, -100, -100, -100, -100, -100])\n",
            "next_sentence_label tensor(0)\n"
          ]
        }
      ]
    },
    {
      "cell_type": "markdown",
      "source": [
        "#7. Pre-training\n",
        "1. `model = BertForPreTraining(config)`: Here is the reason why we are creating instance of `BertForPreTraining`\n",
        "  * It is specifically designed for pre-training the BERT model architecture. The class encapsulates the BERT architecture along with additional pre-training tasks: NSP and MLM\n",
        "  * This is a crucial consideration: if you cannot find a module that satisfies the pre-training objective of a particular model, you will need to create the module yourself. In our case, Hugging Face's BertForPreTraining module already met both NSP and MLM pre-training objectives, so we didn't need to write a custom module.\n",
        "  * At the time of writing this book, I could not find a BartForPretraining module that satisfied BART's pre-training objectives. Therefore, if we want to pre-train BART, we would need to create a custom module for further pre-training BART.\n",
        "\n",
        "2. In the following code, we are using just one epoch. However, to achieve optimal results, you should consider using multiple epochs."
      ],
      "metadata": {
        "id": "sGM8C80ofKgC"
      }
    },
    {
      "cell_type": "code",
      "source": [
        "### 역자 주: 이하 코드는 무료 코랩에서는 램을 모두 소진하여 코랩에서는 중간에 실행이 중단될 수 있습니다.\n",
        "### 이를 방지하기 위해서는 유료 버전 코랩을 구독하거나, 사용자의 컴퓨터에서 주피터 노트북 환경으로 실행할 수 있습니다.\n",
        "\n",
        "import torch\n",
        "from torch.nn import CrossEntropyLoss\n",
        "from torch.optim import AdamW\n",
        "from transformers import BertForPreTraining, BertConfig\n",
        "from accelerate import Accelerator\n",
        "\n",
        "# Accelerator 초기화\n",
        "accelerator = Accelerator()\n",
        "\n",
        "# BERT 모델 불러오기\n",
        "config = BertConfig.from_pretrained(\"bert-base-uncased\")\n",
        "model = BertForPreTraining(config)\n",
        "\n",
        "# 옵티마이저 설정\n",
        "optimizer = AdamW(model.parameters(), lr=5e-5)\n",
        "\n",
        "# 모델과 옵티마이저를 accelerate.prepare()로 처리\n",
        "model, optimizer, train_dataloader = accelerator.prepare(\n",
        "    model, optimizer, train_dataloader)\n",
        "\n",
        "# 학습 파라미터 설정\n",
        "num_epochs = 1\n",
        "print_every = 10\n",
        "\n",
        "# 학습 루프\n",
        "for epoch in range(num_epochs):\n",
        "    print(f\"Epoch {epoch + 1}/{num_epochs}\")\n",
        "    model.train()\n",
        "    running_loss = 0.0\n",
        "\n",
        "    for step, batch in enumerate(train_dataloader):\n",
        "        input_ids = batch[\"input_ids\"].to(accelerator.device)\n",
        "        attention_mask = batch[\"attention_mask\"].to(accelerator.device)\n",
        "        labels = batch[\"labels\"].to(accelerator.device)\n",
        "        next_sentence_label = batch[\"next_sentence_label\"].to(accelerator.device)\n",
        "\n",
        "        # 포워드 패스(pass)\n",
        "        outputs = model(input_ids=input_ids, attention_mask=attention_mask, labels=labels, next_sentence_label=next_sentence_label)\n",
        "        loss = outputs.loss\n",
        "\n",
        "        # 백워드 패스(pass)\n",
        "        accelerator.backward(loss)\n",
        "        optimizer.step()\n",
        "        optimizer.zero_grad()\n",
        "\n",
        "        running_loss += loss.item()\n",
        "\n",
        "        if (step + 1) % print_every == 0:\n",
        "            print(f\"Step {step + 1}: Loss = {running_loss / print_every:.4f}\")\n",
        "            running_loss = 0.0\n",
        "\n",
        "print(\"Training complete!\")\n"
      ],
      "metadata": {
        "colab": {
          "base_uri": "https://localhost:8080/"
        },
        "id": "7BRhsG09YXK5",
        "outputId": "4c312d35-280e-41cc-8779-35b0e18b60b3",
        "executionInfo": {
          "status": "ok",
          "timestamp": 1735350240189,
          "user_tz": -540,
          "elapsed": 262831,
          "user": {
            "displayName": "Ian Yim",
            "userId": "08695581898435441964"
          }
        }
      },
      "execution_count": null,
      "outputs": [
        {
          "output_type": "stream",
          "name": "stdout",
          "text": [
            "Epoch 1/1\n",
            "Step 10: Loss = 10.7807\n",
            "Step 20: Loss = 10.1618\n",
            "Step 30: Loss = 9.8622\n",
            "Step 40: Loss = 9.5356\n",
            "Step 50: Loss = 9.3141\n",
            "Step 60: Loss = 9.0798\n",
            "Step 70: Loss = 8.8763\n",
            "Step 80: Loss = 8.6387\n",
            "Step 90: Loss = 8.5320\n",
            "Step 100: Loss = 8.4102\n",
            "Step 110: Loss = 8.1728\n",
            "Step 120: Loss = 8.2598\n",
            "Step 130: Loss = 8.1309\n",
            "Step 140: Loss = 8.1177\n",
            "Step 150: Loss = 7.9830\n",
            "Step 160: Loss = 7.4407\n",
            "Step 170: Loss = 7.9767\n",
            "Step 180: Loss = 8.1103\n",
            "Step 190: Loss = 8.1159\n",
            "Step 200: Loss = 8.0907\n",
            "Step 210: Loss = 7.9769\n",
            "Step 220: Loss = 8.0072\n",
            "Step 230: Loss = 8.0583\n",
            "Step 240: Loss = 7.8425\n",
            "Step 250: Loss = 7.9291\n",
            "Step 260: Loss = 7.9817\n",
            "Step 270: Loss = 7.9684\n",
            "Step 280: Loss = 7.9963\n",
            "Step 290: Loss = 8.0346\n",
            "Step 300: Loss = 7.9909\n",
            "Step 310: Loss = 8.0665\n",
            "Step 320: Loss = 7.9331\n",
            "Step 330: Loss = 8.0243\n",
            "Step 340: Loss = 7.9388\n",
            "Step 350: Loss = 7.8494\n",
            "Step 360: Loss = 8.7865\n",
            "Step 370: Loss = 7.9062\n",
            "Step 380: Loss = 8.0010\n",
            "Step 390: Loss = 7.9965\n",
            "Step 400: Loss = 7.9387\n",
            "Step 410: Loss = 7.8055\n",
            "Step 420: Loss = 7.9612\n",
            "Step 430: Loss = 7.8526\n",
            "Step 440: Loss = 7.9054\n",
            "Step 450: Loss = 7.8697\n",
            "Step 460: Loss = 7.9744\n",
            "Step 470: Loss = 7.8775\n",
            "Step 480: Loss = 7.8252\n",
            "Step 490: Loss = 7.8302\n",
            "Step 500: Loss = 7.9231\n",
            "Step 510: Loss = 7.8967\n",
            "Step 520: Loss = 7.9186\n",
            "Step 530: Loss = 7.7502\n",
            "Step 540: Loss = 7.9417\n",
            "Step 550: Loss = 8.0147\n",
            "Step 560: Loss = 7.9664\n",
            "Step 570: Loss = 7.7156\n",
            "Step 580: Loss = 7.7195\n",
            "Step 590: Loss = 7.9010\n",
            "Step 600: Loss = 8.0096\n",
            "Step 610: Loss = 7.8756\n",
            "Step 620: Loss = 7.9533\n",
            "Training complete!\n"
          ]
        }
      ]
    },
    {
      "cell_type": "code",
      "source": [
        "# 원서와 달리 다음 구글 드라이브에 모델을 저장\n",
        "save_directory = \"/content/drive/MyDrive/Book6/Ch5/pretrained_bert/\"\n",
        "model.save_pretrained(save_directory)\n",
        "tokenizer.save_pretrained(save_directory)\n"
      ],
      "metadata": {
        "id": "b7KK_QElZXxD",
        "colab": {
          "base_uri": "https://localhost:8080/"
        },
        "executionInfo": {
          "status": "ok",
          "timestamp": 1735350306577,
          "user_tz": -540,
          "elapsed": 1536,
          "user": {
            "displayName": "Ian Yim",
            "userId": "08695581898435441964"
          }
        },
        "outputId": "45bad11c-d20a-43a6-bbc1-93923caff248"
      },
      "execution_count": null,
      "outputs": [
        {
          "output_type": "execute_result",
          "data": {
            "text/plain": [
              "('/content/drive/MyDrive/Book6/Ch5/pretrained_bert/tokenizer_config.json',\n",
              " '/content/drive/MyDrive/Book6/Ch5/pretrained_bert/special_tokens_map.json',\n",
              " '/content/drive/MyDrive/Book6/Ch5/pretrained_bert/vocab.txt',\n",
              " '/content/drive/MyDrive/Book6/Ch5/pretrained_bert/added_tokens.json')"
            ]
          },
          "metadata": {},
          "execution_count": 20
        }
      ]
    },
    {
      "cell_type": "markdown",
      "source": [
        "We conducted further pre-training of bert-based-uncased. Some of the areas for optimization are:\n",
        "\n",
        "1. We used a very simple approach to clean the data, like removing\n",
        "numbers and special characters. It's essential to invest more time in this process and employ more sophisticated techniques.\n",
        "2. We used the simple nltk module to split sentences. While nltk works well for general sentence splitting, clinical notes are written in a more informal manner and often include numbers and stats. As a result, nltk is not the optimal solution. We should use advanced sentence detectors to split sentences.\n",
        "3. The data items we prepared are not entirely accurate. For example, when merging all clinical notes together, the last sentence of clinical note A and the first sentence of clinical note B become sentence A and sentence B, which is not entirely correct.\n",
        "When creating an LLM for your organization, it's crucial to invest a significant amount of time in cleaning the data; otherwise, you'll end up with a suboptimal model despite having a robust model architecture."
      ],
      "metadata": {
        "id": "oIwpXgLGGXxU"
      }
    },
    {
      "cell_type": "code",
      "source": [],
      "metadata": {
        "id": "ytqPVAshGndu"
      },
      "execution_count": null,
      "outputs": []
    }
  ]
}